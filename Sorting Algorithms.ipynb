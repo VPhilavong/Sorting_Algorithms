{
 "cells": [
  {
   "cell_type": "markdown",
   "id": "b05bae7c-48f4-4119-ad9d-9a834d04f4ae",
   "metadata": {},
   "source": [
    "# Sorting Algorithms\n"
   ]
  },
  {
   "cell_type": "markdown",
   "id": "606539d6-6332-4704-8db6-4e5f2d06e407",
   "metadata": {},
   "source": [
    "## 1. Merge Sort\n",
    "- Time Complexity: $O(nlogn)$\n",
    "- Space Complexity: $O(n)$\n",
    "- Description: Divide-and-conquer approach; splits array into halves and merges them in sorted order\n",
    "- Stable: Maintains relative order of equal elements\n",
    "- Use Case: When stability is required, e.g., sorting objects with secondary keys."
   ]
  },
  {
   "cell_type": "code",
   "execution_count": 49,
   "id": "f3916cca-0399-47ba-ba23-fb29a5ecc817",
   "metadata": {},
   "outputs": [
    {
     "name": "stdout",
     "output_type": "stream",
     "text": [
      "[8, 17, 23, 34, 42, 56, 60, 73, 89, 91]\n"
     ]
    }
   ],
   "source": [
    "# Merge Sort implementation\n",
    "# recursive merge sort\n",
    "def merge_sort(arr):\n",
    "    def merge_sort_helper(arr, start, end):\n",
    "        if end - start > 1:\n",
    "            mid = (start + end) // 2 # find the mid point of the array\n",
    "            merge_sort_helper(arr, start, mid) # recursively do the left array\n",
    "            merge_sort_helper(arr, mid, end) # recursively do the right array\n",
    "            merge(arr, start, mid, end) # once the base case is reach (arr has one elemnt) we merge\n",
    "            \n",
    "    def merge(arr, start, mid, end):\n",
    "        L = start # Start of left array\n",
    "        R = mid # Start of right array\n",
    "        merged_list = [] # The copy array\n",
    "\n",
    "        # While the left pointer is less than the midpoint and right point is less than the end\n",
    "        while L < mid and R < end:\n",
    "            # if the arr at index L is less than arr at index R -> add the left element to the list\n",
    "            if arr[L] < arr[R]:\n",
    "                merged_list.append(arr[L])\n",
    "                L += 1\n",
    "            else: \n",
    "            # if the arr at index L is greater or equal than arr at index R -> add the right element to the list\n",
    "                merged_list.append(arr[R])\n",
    "                R += 1\n",
    "            \n",
    "        while L < mid:\n",
    "            merged_list.append(arr[L])\n",
    "            L += 1\n",
    "\n",
    "        while R < end:\n",
    "            merged_list.append(arr[R])\n",
    "            R += 1\n",
    "\n",
    "        for i, val in enumerate(merged_list):\n",
    "            arr[start + i] = val\n",
    "     \n",
    "    merge_sort_helper(arr, 0, len(arr))\n",
    "    return arr\n",
    "    \n",
    "unsorted_list = [42, 17, 89, 23, 56, 73, 8, 34, 91, 60]\n",
    "print(merge_sort(unsorted_list))\n",
    "\n"
   ]
  },
  {
   "cell_type": "markdown",
   "id": "a7b9f960-4152-486c-9d4a-01f0595d83d4",
   "metadata": {},
   "source": [
    "# 2. Bubble Sort"
   ]
  },
  {
   "cell_type": "code",
   "execution_count": 55,
   "id": "e4a48aca-aa4a-4e71-8e7e-b5e78504c877",
   "metadata": {},
   "outputs": [
    {
     "name": "stdout",
     "output_type": "stream",
     "text": [
      "[8, 17, 23, 34, 42, 56, 60, 73, 89, 91]\n"
     ]
    }
   ],
   "source": [
    "def bubble_sort(arr):\n",
    "    n = len(arr)\n",
    "    for i in range(n):\n",
    "        for j in range(n - i - 1):\n",
    "            if arr[j] > arr[j + 1]:\n",
    "                arr[j], arr[j + 1] = arr[j + 1], arr[j]\n",
    "    return arr\n",
    "unsorted_list = [42, 17, 89, 23, 56, 73, 8, 34, 91, 60]\n",
    "print(bubble_sort(unsorted_list))"
   ]
  }
 ],
 "metadata": {
  "kernelspec": {
   "display_name": "Python 3 (ipykernel)",
   "language": "python",
   "name": "python3"
  },
  "language_info": {
   "codemirror_mode": {
    "name": "ipython",
    "version": 3
   },
   "file_extension": ".py",
   "mimetype": "text/x-python",
   "name": "python",
   "nbconvert_exporter": "python",
   "pygments_lexer": "ipython3",
   "version": "3.11.9"
  }
 },
 "nbformat": 4,
 "nbformat_minor": 5
}
